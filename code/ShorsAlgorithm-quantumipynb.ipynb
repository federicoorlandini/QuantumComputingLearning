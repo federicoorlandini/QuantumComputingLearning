{
 "cells": [
  {
   "cell_type": "code",
   "execution_count": 10,
   "metadata": {},
   "outputs": [
    {
     "ename": "ImportError",
     "evalue": "cannot import name 'Shor' from 'qiskit.algorithms' (c:\\python\\python3_8_3\\lib\\site-packages\\qiskit\\algorithms\\__init__.py)",
     "output_type": "error",
     "traceback": [
      "\u001b[1;31m---------------------------------------------------------------------------\u001b[0m",
      "\u001b[1;31mImportError\u001b[0m                               Traceback (most recent call last)",
      "Cell \u001b[1;32mIn[10], line 3\u001b[0m\n\u001b[0;32m      1\u001b[0m \u001b[38;5;66;03m# This is the quantum implementation for the Shorts algorithm\u001b[39;00m\n\u001b[0;32m      2\u001b[0m \u001b[38;5;28;01mfrom\u001b[39;00m \u001b[38;5;21;01mqiskit\u001b[39;00m \u001b[38;5;28;01mimport\u001b[39;00m \u001b[38;5;241m*\u001b[39m\n\u001b[1;32m----> 3\u001b[0m \u001b[38;5;28;01mfrom\u001b[39;00m \u001b[38;5;21;01mqiskit\u001b[39;00m\u001b[38;5;21;01m.\u001b[39;00m\u001b[38;5;21;01malgorithms\u001b[39;00m \u001b[38;5;28;01mimport\u001b[39;00m Shor\n",
      "\u001b[1;31mImportError\u001b[0m: cannot import name 'Shor' from 'qiskit.algorithms' (c:\\python\\python3_8_3\\lib\\site-packages\\qiskit\\algorithms\\__init__.py)"
     ]
    }
   ],
   "source": [
    "# This is the quantum implementation for the Shorts algorithm\n",
    "from qiskit import *\n",
    "from qiskit.algorithms import Shor # The Shor algorithm has been deprecated and removed from Qiskit\n",
    "\n",
    "# IMPOSSIBLE TO CONTINUE WITH THIS TUTORIAL"
   ]
  },
  {
   "cell_type": "code",
   "execution_count": null,
   "metadata": {},
   "outputs": [],
   "source": [
    "quantum_instance = Aer.get_backend('qasm_simulator')\n",
    "shor = Shorts(quantum_instance)"
   ]
  }
 ],
 "metadata": {
  "kernelspec": {
   "display_name": "Python 3 (ipykernel)",
   "language": "python",
   "name": "python3"
  }
 },
 "nbformat": 4,
 "nbformat_minor": 2
}
